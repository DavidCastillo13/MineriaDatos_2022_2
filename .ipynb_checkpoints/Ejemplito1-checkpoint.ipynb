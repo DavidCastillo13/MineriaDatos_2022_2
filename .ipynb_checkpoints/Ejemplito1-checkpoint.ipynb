{
 "cells": [
  {
   "cell_type": "code",
   "execution_count": 1,
   "id": "50f312e8",
   "metadata": {},
   "outputs": [
    {
     "data": {
      "text/plain": [
       "11"
      ]
     },
     "execution_count": 1,
     "metadata": {},
     "output_type": "execute_result"
    }
   ],
   "source": [
    "6+5"
   ]
  },
  {
   "cell_type": "code",
   "execution_count": 5,
   "id": "99f11af7",
   "metadata": {},
   "outputs": [
    {
     "data": {
      "text/plain": [
       "'AHHHHHHHHHHHHHHHHHHHHHHHHHHHHHHHHHHHHH'"
      ]
     },
     "execution_count": 5,
     "metadata": {},
     "output_type": "execute_result"
    }
   ],
   "source": [
    "\"AHHHHHHHHHHHHHHHHHHHHHHHHHHHHHHHHHHHHH\""
   ]
  },
  {
   "cell_type": "code",
   "execution_count": null,
   "id": "665ef95d",
   "metadata": {},
   "outputs": [],
   "source": []
  }
 ],
 "metadata": {
  "kernelspec": {
   "display_name": "Python 3 (ipykernel)",
   "language": "python",
   "name": "python3"
  },
  "language_info": {
   "codemirror_mode": {
    "name": "ipython",
    "version": 3
   },
   "file_extension": ".py",
   "mimetype": "text/x-python",
   "name": "python",
   "nbconvert_exporter": "python",
   "pygments_lexer": "ipython3",
   "version": "3.9.7"
  }
 },
 "nbformat": 4,
 "nbformat_minor": 5
}
